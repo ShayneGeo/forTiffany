{
 "cells": [
  {
   "cell_type": "code",
   "execution_count": null,
   "id": "a6686842-c4b3-4f59-bf66-121addc21027",
   "metadata": {},
   "outputs": [],
   "source": [
    "import geopandas as gpd\n",
    "import matplotlib.pyplot as plt\n",
    "\n",
    "# Specify the path to the shapefile\n",
    "shapefile_path = r\"C:\\Users\\magst\\Desktop\\JESSE_STUDENTWORKERS\\data\\NIFC_2020_WFIGS_AllPerims_20231010.shp\"\n",
    "\n",
    "# Load the shapefile\n",
    "dataNIFC = gpd.read_file(shapefile_path)\n",
    "\n",
    "# Filter the data where 'Poly_Incid' is 'cameronPeak'\n",
    "cameron_peak_data_NIFC = dataNIFC[dataNIFC['poly_Incid'] == 'Cameron Peak']  # Assuming case-insensitive comparison\n",
    "\n",
    "cameron_peak_data_NIFC.plot()\n",
    "plt.title(\"Map of Cameron Peak Fire Perimeter\")\n",
    "plt.xlabel(\"Longitude\")\n",
    "plt.ylabel(\"Latitude\")\n",
    "plt.show()"
   ]
  },
  {
   "cell_type": "code",
   "execution_count": null,
   "id": "f97cf0fe-794a-4567-a5e0-50cbba36a8bd",
   "metadata": {},
   "outputs": [],
   "source": [
    "shapefile_path = r\"C:\\Users\\magst\\Desktop\\JESSE_STUDENTWORKERS\\target_nf_perimeters.shp\"\n",
    "\n",
    "# Load the shapefile\n",
    "dataNasa = gpd.read_file(shapefile_path)\n",
    "dataNasa.columns\n",
    "\n",
    "cameron_peak_data_Nasa = dataNasa[dataNasa['FireName'] == 'CAMERON PEAK']  # Assuming case-insensitive comparison\n",
    "\n",
    "cameron_peak_data_Nasa.plot(facecolor='none')\n",
    "plt.title(\"Map of Cameron Peak Fire Perimeter\")\n",
    "plt.xlabel(\"Longitude\")\n",
    "plt.ylabel(\"Latitude\")\n",
    "plt.show()"
   ]
  },
  {
   "cell_type": "code",
   "execution_count": null,
   "id": "e4afc4de-e1ac-4bac-a7c6-48e1c4fa22f9",
   "metadata": {},
   "outputs": [],
   "source": [
    "import geopandas as gpd\n",
    "import matplotlib.pyplot as plt\n",
    "\n",
    "# Assuming cameron_peak_data_Nasa is a GeoDataFrame\n",
    "cameron_peak_sorted = cameron_peak_data_Nasa.sort_values(by='t')\n",
    "\n",
    "# This is the day IE 55 time steps from the start of the fire\n",
    "OneDay_row = cameron_peak_sorted.iloc[1]\n",
    "\n",
    "# Convert the first row to a GeoSeries\n",
    "OneDay_row_NASA = gpd.GeoSeries(OneDay_row['geometry'])\n",
    "\n",
    "# Plot the geometry of the first row\n",
    "OneDay_row_NASA.plot()\n",
    "plt.title(\"Map of Cameron Peak Fire Perimeter (First Row)\")\n",
    "plt.xlabel(\"Longitude\")\n",
    "plt.ylabel(\"Latitude\")\n",
    "plt.show()\n"
   ]
  },
  {
   "cell_type": "code",
   "execution_count": null,
   "id": "7acec657-1ffb-4cf3-9bba-b97cc4e7ab3f",
   "metadata": {},
   "outputs": [],
   "source": [
    "import geopandas as gpd\n",
    "import matplotlib.pyplot as plt\n",
    "\n",
    "# Convert OneDay_row_NASA to a GeoDataFrame\n",
    "OneDay_row_NASA_gdf = gpd.GeoDataFrame(geometry=gpd.GeoSeries(OneDay_row_NASA))\n",
    "\n",
    "# Calculate the decimal degree equivalent of 100 meters\n",
    "meters = 30\n",
    "\n",
    "degrees = meters / 111000  # conversion factor from meters to degrees\n",
    "\n",
    "buffered_cameron_peak = cameron_peak_data_NIFC.buffer(degrees)\n",
    "\n",
    "# Create a unary union of the buffered geometries to handle multiple polygons\n",
    "buffered_union = buffered_cameron_peak.unary_union\n",
    "\n",
    "# Check for intersections and adjust geometries\n",
    "OneDay_row_NASA_gdf['adjusted_geometry'] = OneDay_row_NASA_gdf.apply(\n",
    "    lambda row: row['geometry'].intersection(buffered_union) if row['geometry'].intersects(buffered_union) else row['geometry'],\n",
    "    axis=1\n",
    ")\n",
    "\n",
    "# You must now remove the negative buffer\n",
    "OneDay_row_NASA_gdf['Removebuffered_adjusted_geometry'] = OneDay_row_NASA_gdf['adjusted_geometry'].buffer(-degrees)\n",
    "\n",
    "\n",
    "# PLOTTING \n",
    "# Plotting both the adjusted geometry and the original NIFC data\n",
    "fig, ax = plt.subplots(figsize=(12, 8))  # Width is 12 inches and height is 8 inches\n",
    "\n",
    "# plot the corrected NASA perimeter\n",
    "OneDay_row_NASA_gdf['Removebuffered_adjusted_geometry'].plot(ax=ax, color='blue', label='Adjusted Perimeter')\n",
    "# Plot the original NIFC data\n",
    "cameron_peak_data_NIFC.plot(ax=ax, color='red', alpha=0.3, label='Original Perimeter')\n",
    "# Get the total bounds of OneDay_row_NASA_gdf's adjusted geometry\n",
    "bounds = OneDay_row_NASA_gdf['Removebuffered_adjusted_geometry'].total_bounds\n",
    "ax.set_xlim([bounds[0], bounds[2]])  # Set x limits (min and max longitude)\n",
    "ax.set_ylim([bounds[1], bounds[3]])  # Set y limits (min and max latitude)\n",
    "\n",
    "# Add plot titles and labels\n",
    "plt.title(\"Comparison of Original and Adjusted Perimeter of Cameron Peak Fire\")\n",
    "plt.xlabel(\"Longitude\")\n",
    "plt.ylabel(\"Latitude\")\n",
    "plt.legend()\n",
    "\n",
    "# Show the plot\n",
    "plt.show()"
   ]
  },
  {
   "cell_type": "code",
   "execution_count": null,
   "id": "ba132cab-d6c5-4f36-8bdc-a113d2c00def",
   "metadata": {},
   "outputs": [],
   "source": [
    "# Now put it in a loop "
   ]
  },
  {
   "cell_type": "code",
   "execution_count": null,
   "id": "d8d21878-cbe2-4a09-913d-14976650336b",
   "metadata": {},
   "outputs": [],
   "source": [
    "for i in range(len(cameron_peak_sorted)):\n",
    "    print(i)\n",
    "    "
   ]
  },
  {
   "cell_type": "code",
   "execution_count": null,
   "id": "0d7bbb74-c4a7-4c01-8e28-ce01174f8759",
   "metadata": {},
   "outputs": [],
   "source": []
  }
 ],
 "metadata": {
  "kernelspec": {
   "display_name": "Python 3 (ipykernel)",
   "language": "python",
   "name": "python3"
  },
  "language_info": {
   "codemirror_mode": {
    "name": "ipython",
    "version": 3
   },
   "file_extension": ".py",
   "mimetype": "text/x-python",
   "name": "python",
   "nbconvert_exporter": "python",
   "pygments_lexer": "ipython3",
   "version": "3.11.0"
  }
 },
 "nbformat": 4,
 "nbformat_minor": 5
}
